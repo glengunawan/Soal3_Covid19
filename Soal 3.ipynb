{
 "cells": [
  {
   "cell_type": "code",
   "execution_count": 18,
   "metadata": {},
   "outputs": [],
   "source": [
    "import pandas as pd \n",
    "import requests \n",
    "from bs4 import BeautifulSoup\n",
    "import folium as fo\n"
   ]
  },
  {
   "cell_type": "code",
   "execution_count": 3,
   "metadata": {},
   "outputs": [],
   "source": [
    "url = 'https://en.wikipedia.org/wiki/2020_coronavirus_pandemic_in_Indonesia'\n",
    "html = requests.get(url)\n",
    "soup = BeautifulSoup(html.content, \"html.parser\") \n"
   ]
  },
  {
   "cell_type": "code",
   "execution_count": 8,
   "metadata": {},
   "outputs": [],
   "source": [
    "table_tbody = soup.find_all(\"tbody\") \n",
    "table_td = table_tbody[3].find_all('td')"
   ]
  },
  {
   "cell_type": "code",
   "execution_count": 9,
   "metadata": {},
   "outputs": [],
   "source": [
    "listkasus = [] \n",
    "index = 0\n",
    "for i in range(34): \n",
    "    kasus = table_td[index].text.replace('\\n','')\n",
    "    sembuh = table_td[index+1].text.replace('\\n','')\n",
    "    mati = table_td[index+2].text.replace('\\n','') \n",
    "    listkasus.append([kasus, sembuh, mati])\n",
    "    index += 5"
   ]
  },
  {
   "cell_type": "code",
   "execution_count": 14,
   "metadata": {},
   "outputs": [
    {
     "data": {
      "text/plain": [
       "['1330', '64', '114']"
      ]
     },
     "execution_count": 14,
     "metadata": {},
     "output_type": "execute_result"
    }
   ],
   "source": [
    "table_th = table_tbody[3].find_all('th')\n",
    "totalkasus = table_th[6].text.replace('\\n','')\n",
    "totalsembuh = table_th[7].text.replace('\\n','')\n",
    "totalmati = table_th[8].text.replace('\\n','')\n",
    "total = [totalkasus, totalsembuh, totalmati] \n",
    "total"
   ]
  },
  {
   "cell_type": "code",
   "execution_count": 29,
   "metadata": {},
   "outputs": [],
   "source": [
    "dfprovinsi = pd.read_json('https://raw.githubusercontent.com/LintangWisesa/Indonesia-Covid19-Maps/master/data/gps_indonesia.json')\n",
    "provinsi = list(dfprovinsi['Provinsi'])\n",
    "latitude = list(dfprovinsi['latitude'])\n",
    "longitude = list(dfprovinsi['longitude'])\n",
    "logo = list(dfprovinsi['logo'])\n",
    "posisi = [] \n",
    "for i in range(len(latitude)): \n",
    "    posisi.append([latitude[i], longitude[i]])"
   ]
  },
  {
   "cell_type": "code",
   "execution_count": 62,
   "metadata": {},
   "outputs": [],
   "source": [
    "peta = fo.Map( \n",
    "    location = [-0.7893, 113.9213], \n",
    "    zoom_start = 5.2\n",
    ")\n",
    "\n",
    "for i in range(len(provinsi)): \n",
    "    popup = fo.Popup(\"Confirmed : {} \\nRecovered : {} \\nDeaths : {}\".format(listkasus[i][0], listkasus[i][1], listkasus[i][2]), max_width=100)\n",
    "    icon = fo.features.CustomIcon(logo[i], icon_size=(32, 32))\n",
    "    fo.Marker(\n",
    "        location = posisi[i],\n",
    "        popup = popup, \n",
    "        tooltip = provinsi[i],\n",
    "        icon = icon).add_to(peta)\n",
    "      \n",
    "    \n",
    "peta.save('peta.html')"
   ]
  },
  {
   "cell_type": "code",
   "execution_count": null,
   "metadata": {},
   "outputs": [],
   "source": []
  }
 ],
 "metadata": {
  "kernelspec": {
   "display_name": "Python 3",
   "language": "python",
   "name": "python3"
  },
  "language_info": {
   "codemirror_mode": {
    "name": "ipython",
    "version": 3
   },
   "file_extension": ".py",
   "mimetype": "text/x-python",
   "name": "python",
   "nbconvert_exporter": "python",
   "pygments_lexer": "ipython3",
   "version": "3.7.4"
  }
 },
 "nbformat": 4,
 "nbformat_minor": 2
}
